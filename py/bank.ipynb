{
 "cells": [
  {
   "cell_type": "code",
   "execution_count": 11,
   "metadata": {},
   "outputs": [],
   "source": [
    "class Bankaccount:\n",
    "    # 속성\n",
    "    def __init__(self,number,name,balance):\n",
    "        self.account_number = number\n",
    "        self.name = name\n",
    "        self.balance = balance\n",
    "\n",
    "    #기능, 메서드\n",
    "    #입금\n",
    "    def deposit(self,amount):\n",
    "        self.balance=self.balance+amount\n",
    "        return self.balance\n",
    "    \n",
    "    #출금\n",
    "    def withdraw(self,amount):\n",
    "        if self.balance>=amount:\n",
    "            self.balance=self.balance-amount\n",
    "        else:\n",
    "            print('잔고가 부족해서 인출 불가합니다.')\n",
    "        return self.balance\n",
    "    def print_balance(self):\n",
    "        print(f'잔고 : {self.balance}')\n"
   ]
  },
  {
   "cell_type": "code",
   "execution_count": 8,
   "metadata": {},
   "outputs": [
    {
     "name": "stdout",
     "output_type": "stream",
     "text": [
      "고객번호 12345\n",
      "이름 홍길동\n",
      "잔금 300000\n",
      "잔고 : 345000\n",
      "잔고 : 315000\n"
     ]
    }
   ],
   "source": [
    "# 객체 생성\n",
    "\n",
    "customer_kim = Bankaccount(12345,'홍길동',300000)\n",
    "print('고객번호',customer_kim.account_number)\n",
    "print('이름',customer_kim.name)\n",
    "print('잔금',customer_kim.balance)\n",
    "\n",
    "customer_kim.deposit(45000)\n",
    "customer_kim.print_balance()\n",
    "customer_kim.withdraw(30000)\n",
    "customer_kim.print_balance()"
   ]
  },
  {
   "cell_type": "code",
   "execution_count": 9,
   "metadata": {},
   "outputs": [
    {
     "name": "stdout",
     "output_type": "stream",
     "text": [
      "고객번호 67890\n",
      "이름 파이썬\n",
      "잔금 1000000\n",
      "잔고 : 1005000\n",
      "잔고 : 975000\n"
     ]
    }
   ],
   "source": [
    "# 객체 생성\n",
    "\n",
    "customer_lee = Bankaccount(67890,'파이썬',1000000)\n",
    "print('고객번호',customer_lee.account_number)\n",
    "print('이름',customer_lee.name)\n",
    "print('잔금',customer_lee.balance)\n",
    "\n",
    "customer_lee.deposit(5000)\n",
    "customer_lee.print_balance()\n",
    "customer_lee.withdraw(30000)\n",
    "customer_lee.print_balance()"
   ]
  },
  {
   "cell_type": "code",
   "execution_count": 13,
   "metadata": {},
   "outputs": [
    {
     "name": "stdout",
     "output_type": "stream",
     "text": [
      "고객번호 3213565\n",
      "이름 231311\n",
      "잔금 21321\n"
     ]
    }
   ],
   "source": [
    "customer_lee = Bankaccount()\n",
    "print('고객번호',customer_lee.account_number)\n",
    "print('이름',customer_lee.name)\n",
    "print('잔금',customer_lee.balance)"
   ]
  }
 ],
 "metadata": {
  "kernelspec": {
   "display_name": "Python 3",
   "language": "python",
   "name": "python3"
  },
  "language_info": {
   "codemirror_mode": {
    "name": "ipython",
    "version": 3
   },
   "file_extension": ".py",
   "mimetype": "text/x-python",
   "name": "python",
   "nbconvert_exporter": "python",
   "pygments_lexer": "ipython3",
   "version": "3.13.1"
  }
 },
 "nbformat": 4,
 "nbformat_minor": 2
}
